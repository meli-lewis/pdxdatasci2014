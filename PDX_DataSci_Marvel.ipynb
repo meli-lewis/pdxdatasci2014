{
 "metadata": {
  "name": "",
  "signature": "sha256:f37d87c5d78ae3b0b10cbc1359b86c839e814f590091e4ab2c0b5b9d14a6e2d1"
 },
 "nbformat": 3,
 "nbformat_minor": 0,
 "worksheets": [
  {
   "cells": [
    {
     "cell_type": "heading",
     "level": 1,
     "metadata": {},
     "source": [
      "Marvel API: Boring Data!"
     ]
    },
    {
     "cell_type": "heading",
     "level": 3,
     "metadata": {},
     "source": [
      "Portland Data Science Meetup, November 2014"
     ]
    },
    {
     "cell_type": "code",
     "collapsed": false,
     "input": [
      "import md5\n",
      "import os\n",
      "import time\n",
      "import urlparse\n",
      "\n",
      "import bokeh.charts as bc\n",
      "import matplotlib.pyplot as plt\n",
      "import pandas as pd\n",
      "import requests\n",
      "import qgrid\n",
      "import seaborn as sns\n",
      "\n",
      "%matplotlib inline\n",
      "qgrid.nbinstall()\n",
      "\n",
      "# Quick and Dirty API wrapper\n",
      "\n",
      "class Marvelous(object):\n",
      "\n",
      "    base_url = \"http://gateway.marvel.com\"\n",
      "\n",
      "    def __init__(self, private_key=None, public_key=None):\n",
      "        \"\"\"A microwrapper for the Marvel API\"\"\"\n",
      "        \n",
      "        if private_key and public_key:\n",
      "            self.private_key = private\n",
      "            self.public_key = public_key\n",
      "        else:\n",
      "            self.private_key = os.getenv('MARVEL_PRIVATE_KEY')\n",
      "            self.public_key = os.getenv('MARVEL_PUBLIC_KEY')\n",
      "            \n",
      "    def request(self, endpoint, **kwargs):\n",
      "        \"\"\"Make a request against the Marvel API\"\"\"\n",
      "        ts = str(int(time.time()))\n",
      "        concat = ''.join([ts, self.private_key, self.public_key])\n",
      "        query_params = {\n",
      "            'ts': ts, \n",
      "            'apikey': self.public_key, \n",
      "            'hash': md5.new(concat).hexdigest()}\n",
      "        query_params.update(kwargs)\n",
      "        url = urlparse.urljoin(self.base_url, endpoint)\n",
      "        resp = requests.get(url, params=query_params)\n",
      "        if resp.status_code != 200:\n",
      "            resp.raise_for_status()\n",
      "        else:\n",
      "            return resp.json()\n",
      "    \n",
      "    def get_character(self, character_name):\n",
      "        \"\"\"Get the data for a given character name\"\"\"\n",
      "        resp = self.request('/v1/public/characters', name=character_name)\n",
      "        result = resp['data']['results'][0]\n",
      "        return {\n",
      "            'name': result['name'],\n",
      "            'description': result['description'],\n",
      "            'id': result['id'],\n",
      "            'comic_count': result['comics']['available'],\n",
      "            'story_count': result['stories']['available'],\n",
      "            'series_count': result['series']['available'],\n",
      "            'event_count': result['events']['available']\n",
      "        }"
     ],
     "language": "python",
     "metadata": {},
     "outputs": [],
     "prompt_number": 6
    },
    {
     "cell_type": "code",
     "collapsed": false,
     "input": [
      "api = Marvelous()"
     ],
     "language": "python",
     "metadata": {},
     "outputs": [],
     "prompt_number": 7
    },
    {
     "cell_type": "code",
     "collapsed": false,
     "input": [
      "api.get_character('Captain America')"
     ],
     "language": "python",
     "metadata": {},
     "outputs": [
      {
       "metadata": {},
       "output_type": "pyout",
       "prompt_number": 8,
       "text": [
        "{'comic_count': 1422,\n",
        " 'description': u\"Vowing to serve his country any way he could, young Steve Rogers took the super soldier serum to become America's one-man army. Fighting for the red, white and blue for over 60 years, Captain America is the living, breathing symbol of freedom and liberty.\",\n",
        " 'event_count': 19,\n",
        " 'id': 1009220,\n",
        " 'name': u'Captain America',\n",
        " 'series_count': 375,\n",
        " 'story_count': 2285}"
       ]
      }
     ],
     "prompt_number": 8
    },
    {
     "cell_type": "code",
     "collapsed": false,
     "input": [
      "cap_comics = api.request('/v1/public/characters/1009220/comics', dateRange='2010-01-01,2014-11-01', limit=100)"
     ],
     "language": "python",
     "metadata": {},
     "outputs": [],
     "prompt_number": 9
    },
    {
     "cell_type": "code",
     "collapsed": false,
     "input": [
      "# Let's get all of the characters in this list of comics\n",
      "comic_list = cap_comics['data']['results']\n",
      "character_set = {c['name'] for comic in comic_list for c in comic['characters']['items']}"
     ],
     "language": "python",
     "metadata": {},
     "outputs": [],
     "prompt_number": 10
    },
    {
     "cell_type": "code",
     "collapsed": false,
     "input": [
      "# Let's only get comic ids for comics that have associated characters\n",
      "comic_ids = [str(com['id']) for com in comic_list if com['characters']['available'] > 10]\n",
      "# Marvel's API will only accept up to 10 comic ids\n",
      "joined_ids = ','.join(comic_ids[:5])\n",
      "joined_ids"
     ],
     "language": "python",
     "metadata": {},
     "outputs": [
      {
       "metadata": {},
       "output_type": "pyout",
       "prompt_number": 11,
       "text": [
        "'41278,35241,41191,42118,42117'"
       ]
      }
     ],
     "prompt_number": 11
    },
    {
     "cell_type": "code",
     "collapsed": false,
     "input": [
      "all_characters = api.request('/v1/public/characters', comics=joined_ids, limit=50)"
     ],
     "language": "python",
     "metadata": {},
     "outputs": [],
     "prompt_number": 12
    },
    {
     "cell_type": "code",
     "collapsed": false,
     "input": [
      "character_list = all_characters['data']['results']\n",
      "records = []\n",
      "for character in character_list:\n",
      "    records.append({\n",
      "            'name': character['name'],\n",
      "            'description': character['description'],\n",
      "            'id': character['id'],\n",
      "            'comic_count': character['comics']['available'],\n",
      "            'story_count': character['stories']['available'],\n",
      "            'series_count': character['series']['available'],\n",
      "            'event_count': character['events']['available']\n",
      "        })"
     ],
     "language": "python",
     "metadata": {},
     "outputs": [],
     "prompt_number": 13
    },
    {
     "cell_type": "code",
     "collapsed": false,
     "input": [
      "hero_df = pd.DataFrame(records)\n",
      "qgrid.show_grid(hero_df, remote_js=True)"
     ],
     "language": "python",
     "metadata": {},
     "outputs": [
      {
       "html": [
        "<script type=\"text/javascript\">\n",
        "if ($(\"#dg-css\").length == 0){\n",
        "    $(\"head\").append([\n",
        "        \"<link href='https://cdn.rawgit.com/quantopian/qgrid/6988858671b6f80c7d1987e07ebff3dc810d20ce/qgrid/qgridjs//lib/slick.grid.css' rel='stylesheet'>\",\n",
        "        \"<link href='https://cdn.rawgit.com/quantopian/qgrid/6988858671b6f80c7d1987e07ebff3dc810d20ce/qgrid/qgridjs//lib/slick-default-theme.css' rel='stylesheet'>\",\n",
        "        \"<link href='http://cdnjs.cloudflare.com/ajax/libs/jqueryui/1.10.4/css/jquery-ui.min.css' rel='stylesheet'>\",\n",
        "        \"<link id='dg-css' href='https://cdn.rawgit.com/quantopian/qgrid/6988858671b6f80c7d1987e07ebff3dc810d20ce/qgrid/qgridjs//qgrid.css' rel='stylesheet'>\"\n",
        "    ]);\n",
        "}\n",
        "</script>\n",
        "<div class='q-grid-container'>\n",
        "<div id='f54a699c-b43e-4388-8ee5-10e72099f28a' class='q-grid'></div>\n",
        "</div>"
       ],
       "metadata": {},
       "output_type": "display_data"
      },
      {
       "javascript": [
        "var path_dictionary = {\n",
        "    jquery_drag: \"https://cdn.rawgit.com/quantopian/qgrid/6988858671b6f80c7d1987e07ebff3dc810d20ce/qgrid/qgridjs//lib/jquery.event.drag-2.2\",\n",
        "    slick_core: \"https://cdn.rawgit.com/quantopian/qgrid/6988858671b6f80c7d1987e07ebff3dc810d20ce/qgrid/qgridjs//lib/slick.core.2.2\",\n",
        "    slick_data_view: \"https://cdn.rawgit.com/quantopian/qgrid/6988858671b6f80c7d1987e07ebff3dc810d20ce/qgrid/qgridjs//lib/slick.dataview.2.2\",\n",
        "    slick_grid: \"https://cdn.rawgit.com/quantopian/qgrid/6988858671b6f80c7d1987e07ebff3dc810d20ce/qgrid/qgridjs//lib/slick.grid.2.2\",\n",
        "    data_grid: \"https://cdn.rawgit.com/quantopian/qgrid/6988858671b6f80c7d1987e07ebff3dc810d20ce/qgrid/qgridjs//qgrid\",\n",
        "    date_filter: \"https://cdn.rawgit.com/quantopian/qgrid/6988858671b6f80c7d1987e07ebff3dc810d20ce/qgrid/qgridjs//qgrid.datefilter\",\n",
        "    slider_filter: \"https://cdn.rawgit.com/quantopian/qgrid/6988858671b6f80c7d1987e07ebff3dc810d20ce/qgrid/qgridjs//qgrid.sliderfilter\",\n",
        "    filter_base:  \"https://cdn.rawgit.com/quantopian/qgrid/6988858671b6f80c7d1987e07ebff3dc810d20ce/qgrid/qgridjs//qgrid.filterbase\",\n",
        "    handlebars: \"https://cdnjs.cloudflare.com/ajax/libs/handlebars.js/2.0.0/handlebars.min\"\n",
        "};\n",
        "\n",
        "var existing_config = require.s.contexts._.config;\n",
        "if (!existing_config.paths['underscore']){\n",
        "    path_dictionary['underscore'] = \"https://cdnjs.cloudflare.com/ajax/libs/underscore.js/1.7.0/underscore-min\";\n",
        "}\n",
        "\n",
        "if (!existing_config.paths['moment']){\n",
        "    path_dictionary['moment'] = \"https://cdnjs.cloudflare.com/ajax/libs/moment.js/2.8.3/moment.min\";\n",
        "}\n",
        "\n",
        "if (!existing_config.paths['jqueryui']){\n",
        "    path_dictionary['jqueryui'] = \"https://ajax.googleapis.com/ajax/libs/jqueryui/1.11.1/jquery-ui.min\";\n",
        "}\n",
        "\n",
        "require.config({\n",
        "    paths: path_dictionary\n",
        "});\n",
        "\n",
        "if (typeof jQuery === 'function') {\n",
        "    define('jquery', function() { return jQuery; });\n",
        "}\n",
        "\n",
        "require([\n",
        "    'jquery',\n",
        "    'jquery_drag',\n",
        "    'slick_core',\n",
        "    'slick_data_view'\n",
        "],\n",
        "function($){\n",
        "    $('#f54a699c-b43e-4388-8ee5-10e72099f28a').closest('.rendered_html').removeClass('rendered_html');\n",
        "    require(['slick_grid'], function(){\n",
        "        require([\"data_grid\"], function(dgrid){\n",
        "            var grid = new dgrid.QGrid('#f54a699c-b43e-4388-8ee5-10e72099f28a', [{\"null\":0,\"comic_count\":963,\"description\":\"Earth's Mightiest Heroes joined forces to take on threats that were too big for any one hero to tackle. With a roster that has included Captain America, Iron Man, Ant-Man, Hulk, Thor, Wasp and dozens more over the years, the Avengers have come to be regarded as Earth's No. 1 team.\",\"event_count\":21,\"id\":1009165,\"name\":\"Avengers\",\"series_count\":192,\"story_count\":1373},{\"null\":1,\"comic_count\":336,\"description\":\"\",\"event_count\":13,\"id\":1009187,\"name\":\"Black Panther\",\"series_count\":101,\"story_count\":461},{\"null\":2,\"comic_count\":286,\"description\":\"\",\"event_count\":8,\"id\":1009189,\"name\":\"Black Widow\",\"series_count\":120,\"story_count\":296},{\"null\":3,\"comic_count\":1422,\"description\":\"Vowing to serve his country any way he could, young Steve Rogers took the super soldier serum to become America's one-man army. Fighting for the red, white and blue for over 60 years, Captain America is the living, breathing symbol of freedom and liberty.\",\"event_count\":19,\"id\":1009220,\"name\":\"Captain America\",\"series_count\":375,\"story_count\":2285},{\"null\":4,\"comic_count\":321,\"description\":\"\",\"event_count\":14,\"id\":1010338,\"name\":\"Captain Marvel (Carol Danvers)\",\"series_count\":82,\"story_count\":451},{\"null\":5,\"comic_count\":552,\"description\":\"\",\"event_count\":22,\"id\":1009243,\"name\":\"Colossus\",\"series_count\":150,\"story_count\":663},{\"null\":6,\"comic_count\":697,\"description\":\"\",\"event_count\":26,\"id\":1009257,\"name\":\"Cyclops\",\"series_count\":214,\"story_count\":752},{\"null\":7,\"comic_count\":818,\"description\":\"Abandoned by his mother, Matt Murdock was raised by his father, boxer \\\"Battling Jack\\\" Murdock, in Hell's Kitchen. Realizing that rules were needed to prevent people from behaving badly, young Matt decided to study law; however, when he saved a man from an oncoming truck, it spilled a radioactive cargo that rendered Matt blind while enhancing his remaining senses. Under the harsh tutelage of blind martial arts master Stick, Matt mastered his heightened senses and became a formidable fighter.\",\"event_count\":11,\"id\":1009262,\"name\":\"Daredevil\",\"series_count\":162,\"story_count\":1316},{\"null\":8,\"comic_count\":70,\"description\":\"\",\"event_count\":1,\"id\":1009276,\"name\":\"Doctor Octopus\",\"series_count\":32,\"story_count\":69},{\"null\":9,\"comic_count\":412,\"description\":\"\",\"event_count\":12,\"id\":1009282,\"name\":\"Doctor Strange\",\"series_count\":123,\"story_count\":562},{\"null\":10,\"comic_count\":221,\"description\":\"\",\"event_count\":7,\"id\":1009310,\"name\":\"Emma Frost\",\"series_count\":84,\"story_count\":208},{\"null\":11,\"comic_count\":1077,\"description\":\"After being exposed to cosmic rays, Reed Richards, Susan Storm, Ben Grimm and Johnny Storm found they had amazing new powers. Reed Richards found he has the ability to stretch his body in any way he wanted, while Susan Storm can turn herself, objects and other people invisible. Ben Grimm transformed into a rocky, super-strong behemoth and Johnny Storm has the ability to set himself on fire. Dubbed the Fantastic Four, Mr. Fantastic, Invisible Woman, Thing and the Human Torch are Marvel's First Family.\",\"event_count\":21,\"id\":1009299,\"name\":\"Fantastic Four\",\"series_count\":224,\"story_count\":1776},{\"null\":12,\"comic_count\":295,\"description\":\"\",\"event_count\":10,\"id\":1009313,\"name\":\"Gambit\",\"series_count\":84,\"story_count\":363},{\"null\":13,\"comic_count\":231,\"description\":\" \",\"event_count\":8,\"id\":1011490,\"name\":\"Hank Pym\",\"series_count\":84,\"story_count\":301},{\"null\":14,\"comic_count\":213,\"description\":\"\",\"event_count\":14,\"id\":1009338,\"name\":\"Hawkeye\",\"series_count\":103,\"story_count\":215},{\"null\":15,\"comic_count\":62,\"description\":\"\",\"event_count\":5,\"id\":1011428,\"name\":\"Hope Summers\",\"series_count\":12,\"story_count\":84},{\"null\":16,\"comic_count\":1304,\"description\":\"Caught in a gamma bomb explosion while trying to save the life of a teenager, Dr. Bruce Banner was transformed into the incredibly powerful creature called the Hulk. An all too often misunderstood hero, the angrier the Hulk gets, the stronger the Hulk gets.\",\"event_count\":24,\"id\":1009351,\"name\":\"Hulk\",\"series_count\":314,\"story_count\":1973},{\"null\":17,\"comic_count\":123,\"description\":\"\",\"event_count\":9,\"id\":1009367,\"name\":\"Iron Fist (Danny Rand)\",\"series_count\":51,\"story_count\":130},{\"null\":18,\"comic_count\":2027,\"description\":\"Wounded, captured and forced to build a weapon by his enemies, billionaire industrialist Tony Stark instead created an advanced suit of armor to save his life and escape captivity. Now with a new outlook on life, Tony uses his money and intelligence to make the world a safer, better place as Iron Man.\",\"event_count\":24,\"id\":1009368,\"name\":\"Iron Man\",\"series_count\":443,\"story_count\":2885},{\"null\":19,\"comic_count\":74,\"description\":\"U.S. Air Force pilot and Tony Stark's friend who has his own suit of Iron Man armor, nicknamed, \\\"War Machine.\\\"\",\"event_count\":4,\"id\":1009538,\"name\":\"Iron Patriot (James Rhodes)\",\"series_count\":29,\"story_count\":92},{\"null\":20,\"comic_count\":40,\"description\":\"\",\"event_count\":2,\"id\":1009378,\"name\":\"Jessica Jones\",\"series_count\":15,\"story_count\":58},{\"null\":21,\"comic_count\":151,\"description\":\"\",\"event_count\":9,\"id\":1009382,\"name\":\"Juggernaut\",\"series_count\":74,\"story_count\":153},{\"null\":22,\"comic_count\":54,\"description\":\"\",\"event_count\":1,\"id\":1009404,\"name\":\"Lizard\",\"series_count\":18,\"story_count\":62},{\"null\":23,\"comic_count\":187,\"description\":\"\",\"event_count\":7,\"id\":1009407,\"name\":\"Loki\",\"series_count\":77,\"story_count\":186},{\"null\":24,\"comic_count\":104,\"description\":\"\",\"event_count\":7,\"id\":1009215,\"name\":\"Luke Cage\",\"series_count\":52,\"story_count\":96},{\"null\":25,\"comic_count\":249,\"description\":\"\",\"event_count\":15,\"id\":1009417,\"name\":\"Magneto\",\"series_count\":111,\"story_count\":247},{\"null\":26,\"comic_count\":282,\"description\":\"\",\"event_count\":10,\"id\":1009471,\"name\":\"Nick Fury\",\"series_count\":123,\"story_count\":266},{\"null\":27,\"comic_count\":125,\"description\":\"\",\"event_count\":6,\"id\":1009325,\"name\":\"Norman Osborn\",\"series_count\":54,\"story_count\":134},{\"null\":28,\"comic_count\":48,\"description\":\"\",\"event_count\":3,\"id\":1011360,\"name\":\"Red Hulk\",\"series_count\":19,\"story_count\":55},{\"null\":29,\"comic_count\":15,\"description\":\"\",\"event_count\":2,\"id\":1011436,\"name\":\"Red She-Hulk\",\"series_count\":5,\"story_count\":16},{\"null\":30,\"comic_count\":112,\"description\":\"\",\"event_count\":4,\"id\":1009535,\"name\":\"Red Skull\",\"series_count\":56,\"story_count\":98},{\"null\":31,\"comic_count\":20,\"description\":\"\",\"event_count\":0,\"id\":1011426,\"name\":\"Scarlet Spider (Kaine)\",\"series_count\":4,\"story_count\":21},{\"null\":32,\"comic_count\":261,\"description\":\"\",\"event_count\":13,\"id\":1009562,\"name\":\"Scarlet Witch\",\"series_count\":107,\"story_count\":293},{\"null\":33,\"comic_count\":61,\"description\":\"Empowered by the enigmatic Professor's secret formula, high school student Robert Reynolds became a superhuman.\",\"event_count\":7,\"id\":1009571,\"name\":\"Sentry (Robert Reynolds)\",\"series_count\":26,\"story_count\":58},{\"null\":34,\"comic_count\":353,\"description\":\"When Zenn-La was threatened by the world-devouring entity known as Galactus, Norrin Radd stood up for his home planet and offered to work for Galactus, finding him new planets to eat, in exchange for saving his own. Years later, the Surfer has protected Earth and many other planets, becoming one of the greatest heroes in the universe.\",\"event_count\":12,\"id\":1009592,\"name\":\"Silver Surfer\",\"series_count\":92,\"story_count\":517},{\"null\":35,\"comic_count\":2575,\"description\":\"Bitten by a radioactive spider, high school student Peter Parker gained the speed, strength and powers of a spider. Adopting the name Spider-Man, Peter hoped to start a career using his new abilities. Taught that with great power comes great responsibility, Spidey has vowed to use his powers to help people.\",\"event_count\":29,\"id\":1009610,\"name\":\"Spider-Man\",\"series_count\":531,\"story_count\":4165},{\"null\":36,\"comic_count\":95,\"description\":\"When young Jessica Drew suffered uranium poisoning in 1931, her father was forced to inject her with his untested spider serum and seal her in a genetic accelerator.\",\"event_count\":7,\"id\":1009608,\"name\":\"Spider-Woman (Jessica Drew)\",\"series_count\":37,\"story_count\":90},{\"null\":37,\"comic_count\":598,\"description\":\"Ororo Monroe is the descendant of an ancient line of African priestesses, all of whom have white hair, blue eyes, and the potential to wield magic.\",\"event_count\":21,\"id\":1009629,\"name\":\"Storm\",\"series_count\":152,\"story_count\":692},{\"null\":38,\"comic_count\":537,\"description\":\"Prince Namor is the half-human\\/half-Atlantean ruler of Atlantis.\",\"event_count\":15,\"id\":1010791,\"name\":\"Sub-Mariner\",\"series_count\":160,\"story_count\":725},{\"null\":39,\"comic_count\":19,\"description\":\"Tyros was once the dictator of the city Lanlak on the planet Birj, where his superhuman ability to command rocks and earth enabled him to overcome all resistance, but his rule of Lanlak came to an end when he was sought by the world-devouring Galactus to serve as his latest Herald.\",\"event_count\":0,\"id\":1009651,\"name\":\"Terrax\",\"series_count\":13,\"story_count\":14},{\"null\":40,\"comic_count\":413,\"description\":\"The radiation that mutated Reed Richards, Sue Storm and Johnny Storm into superhuman beings had also mutated Ben Grimm, transforming him into a grotesque, rock-hided strongman dubbed the Thing.\",\"event_count\":20,\"id\":1009662,\"name\":\"Thing\",\"series_count\":168,\"story_count\":481},{\"null\":41,\"comic_count\":1240,\"description\":\"As the Norse God of thunder and lightning, Thor wields one of the greatest weapons ever made, the enchanted hammer Mjolnir.\\r\\nWhile others have described Thor as an over-muscled, oafish imbecile, he's quite smart and compassionate.  He's self-assured, and he would never, ever stop fighting for a worthwhile cause.\\r\\n\\r\\n\",\"event_count\":21,\"id\":1009664,\"name\":\"Thor\",\"series_count\":302,\"story_count\":1948},{\"null\":42,\"comic_count\":30,\"description\":\"Uatu grew so fond of the lifeforms he observed that he occasionally violated his vow of non-interference when Earth's existence was threatened.\",\"event_count\":1,\"id\":1009683,\"name\":\"Uatu The Watcher\",\"series_count\":10,\"story_count\":31},{\"null\":43,\"comic_count\":268,\"description\":\"The metal monstrosity called Ultron created the synthetic humanoid known as the Vision from the remains of the original android Human Torch of the 1940s to serve as a vehicle of vengeance against the Avengers.\",\"event_count\":11,\"id\":1009697,\"name\":\"Vision\",\"series_count\":93,\"story_count\":302},{\"null\":44,\"comic_count\":234,\"description\":\"When Janet Van Dyne's father died, she convinced her father's associate Hank Pym to give her a supply of \\\"Pym particles\\\"; Pym also subjected her to a procedure which granted her the ability to, upon shrinking, grow wings and fire blasts of energy, which she called her \\\"wasp's stings.\\\"\",\"event_count\":11,\"id\":1009707,\"name\":\"Wasp\",\"series_count\":105,\"story_count\":251},{\"null\":45,\"comic_count\":3,\"description\":\"William Stryker became convinced that Satan had a plot to corrupt humankind by taking over their souls while still in the womb, resulting in their mutations.\",\"event_count\":0,\"id\":1009633,\"name\":\"William Stryker\",\"series_count\":1,\"story_count\":4},{\"null\":46,\"comic_count\":1794,\"description\":\"Born with super-human senses and the power to heal from almost any wound, Wolverine was captured by a secret Canadian organization and given an unbreakable skeleton and claws. Treated like an animal, it took years for him to control himself. Now, he's a premiere member of both the X-Men and the Avengers.\",\"event_count\":32,\"id\":1009718,\"name\":\"Wolverine\",\"series_count\":436,\"story_count\":2445},{\"null\":47,\"comic_count\":2531,\"description\":\"Feared and hated by humans because they're different, the X-Men are heroic mutants, individuals born with special powers who've sworn to use their gifts to protect mutants as well as humans.\",\"event_count\":34,\"id\":1009726,\"name\":\"X-Men\",\"series_count\":469,\"story_count\":3781}], [{\"field\": null, \"type\": \"Integer\"}, {\"field\": \"comic_count\", \"type\": \"Integer\"}, {\"field\": \"description\"}, {\"field\": \"event_count\", \"type\": \"Integer\"}, {\"field\": \"id\", \"type\": \"Integer\"}, {\"field\": \"name\"}, {\"field\": \"series_count\", \"type\": \"Integer\"}, {\"field\": \"story_count\", \"type\": \"Integer\"}]);\n",
        "            grid.initialize_slick_grid();\n",
        "        });\n",
        "    });\n",
        "});"
       ],
       "metadata": {},
       "output_type": "display_data"
      }
     ],
     "prompt_number": 14
    },
    {
     "cell_type": "code",
     "collapsed": false,
     "input": [
      "# For quick and dirty exploratory analysis, I usually start with Pandas native plotting functionality\n",
      "hero_df['comic_count'].plot(kind='bar')"
     ],
     "language": "python",
     "metadata": {},
     "outputs": [
      {
       "metadata": {},
       "output_type": "pyout",
       "prompt_number": 30,
       "text": [
        "<matplotlib.axes._subplots.AxesSubplot at 0x10dc8bb50>"
       ]
      },
      {
       "metadata": {},
       "output_type": "display_data",
       "png": "[encoded data removed]",
       "text": [
        "<matplotlib.figure.Figure at 0x10e342110>"
       ]
      }
     ],
     "prompt_number": 30
    },
    {
     "cell_type": "code",
     "collapsed": false,
     "input": [
      "top_10 = hero_df.sort('comic_count', ascending=False)[['name', 'comic_count']][:10]\n",
      "qgrid.show_grid(top_10, remote_js=True)"
     ],
     "language": "python",
     "metadata": {},
     "outputs": [
      {
       "html": [
        "<script type=\"text/javascript\">\n",
        "if ($(\"#dg-css\").length == 0){\n",
        "    $(\"head\").append([\n",
        "        \"<link href='/nbextensions/qgridjs/lib/slick.grid.css' rel='stylesheet'>\",\n",
        "        \"<link href='/nbextensions/qgridjs/lib/slick-default-theme.css' rel='stylesheet'>\",\n",
        "        \"<link href='http://cdnjs.cloudflare.com/ajax/libs/jqueryui/1.10.4/css/jquery-ui.min.css' rel='stylesheet'>\",\n",
        "        \"<link id='dg-css' href='/nbextensions/qgridjs/qgrid.css' rel='stylesheet'>\"\n",
        "    ]);\n",
        "}\n",
        "</script>\n",
        "<div class='q-grid-container'>\n",
        "<div id='e427b83f-6360-4be2-8350-7d2d0e93232f' class='q-grid'></div>\n",
        "</div>"
       ],
       "metadata": {},
       "output_type": "display_data"
      },
      {
       "javascript": [
        "var path_dictionary = {\n",
        "    jquery_drag: \"/nbextensions/qgridjs/lib/jquery.event.drag-2.2\",\n",
        "    slick_core: \"/nbextensions/qgridjs/lib/slick.core.2.2\",\n",
        "    slick_data_view: \"/nbextensions/qgridjs/lib/slick.dataview.2.2\",\n",
        "    slick_grid: \"/nbextensions/qgridjs/lib/slick.grid.2.2\",\n",
        "    data_grid: \"/nbextensions/qgridjs/qgrid\",\n",
        "    date_filter: \"/nbextensions/qgridjs/qgrid.datefilter\",\n",
        "    slider_filter: \"/nbextensions/qgridjs/qgrid.sliderfilter\",\n",
        "    filter_base:  \"/nbextensions/qgridjs/qgrid.filterbase\",\n",
        "    handlebars: \"https://cdnjs.cloudflare.com/ajax/libs/handlebars.js/2.0.0/handlebars.min\"\n",
        "};\n",
        "\n",
        "var existing_config = require.s.contexts._.config;\n",
        "if (!existing_config.paths['underscore']){\n",
        "    path_dictionary['underscore'] = \"https://cdnjs.cloudflare.com/ajax/libs/underscore.js/1.7.0/underscore-min\";\n",
        "}\n",
        "\n",
        "if (!existing_config.paths['moment']){\n",
        "    path_dictionary['moment'] = \"https://cdnjs.cloudflare.com/ajax/libs/moment.js/2.8.3/moment.min\";\n",
        "}\n",
        "\n",
        "if (!existing_config.paths['jqueryui']){\n",
        "    path_dictionary['jqueryui'] = \"https://ajax.googleapis.com/ajax/libs/jqueryui/1.11.1/jquery-ui.min\";\n",
        "}\n",
        "\n",
        "require.config({\n",
        "    paths: path_dictionary\n",
        "});\n",
        "\n",
        "if (typeof jQuery === 'function') {\n",
        "    define('jquery', function() { return jQuery; });\n",
        "}\n",
        "\n",
        "require([\n",
        "    'jquery',\n",
        "    'jquery_drag',\n",
        "    'slick_core',\n",
        "    'slick_data_view'\n",
        "],\n",
        "function($){\n",
        "    $('#e427b83f-6360-4be2-8350-7d2d0e93232f').closest('.rendered_html').removeClass('rendered_html');\n",
        "    require(['slick_grid'], function(){\n",
        "        require([\"data_grid\"], function(dgrid){\n",
        "            var grid = new dgrid.QGrid('#e427b83f-6360-4be2-8350-7d2d0e93232f', [{\"null\":35,\"name\":\"Spider-Man\",\"comic_count\":2575},{\"null\":47,\"name\":\"X-Men\",\"comic_count\":2531},{\"null\":18,\"name\":\"Iron Man\",\"comic_count\":2027},{\"null\":46,\"name\":\"Wolverine\",\"comic_count\":1794},{\"null\":3,\"name\":\"Captain America\",\"comic_count\":1422},{\"null\":16,\"name\":\"Hulk\",\"comic_count\":1304},{\"null\":41,\"name\":\"Thor\",\"comic_count\":1240},{\"null\":11,\"name\":\"Fantastic Four\",\"comic_count\":1077},{\"null\":0,\"name\":\"Avengers\",\"comic_count\":963},{\"null\":7,\"name\":\"Daredevil\",\"comic_count\":818}], [{\"field\": null, \"type\": \"Integer\"}, {\"field\": \"name\"}, {\"field\": \"comic_count\", \"type\": \"Integer\"}]);\n",
        "            grid.initialize_slick_grid();\n",
        "        });\n",
        "    });\n",
        "});"
       ],
       "metadata": {},
       "output_type": "display_data"
      }
     ],
     "prompt_number": 42
    },
    {
     "cell_type": "code",
     "collapsed": false,
     "input": [
      "top_10.plot(kind='bar', x='name')"
     ],
     "language": "python",
     "metadata": {},
     "outputs": [
      {
       "metadata": {},
       "output_type": "pyout",
       "prompt_number": 32,
       "text": [
        "<matplotlib.axes._subplots.AxesSubplot at 0x10e087550>"
       ]
      },
      {
       "metadata": {},
       "output_type": "display_data",
       "png": "[encoded data removed]",
       "text": [
        "<matplotlib.figure.Figure at 0x10e335550>"
       ]
      }
     ],
     "prompt_number": 32
    },
    {
     "cell_type": "code",
     "collapsed": false,
     "input": [
      "# Ok, time to create something a bit nicer\n",
      "sns.factorplot('name', 'comic_count', data=top_10, kind='bar', aspect=2.0)"
     ],
     "language": "python",
     "metadata": {},
     "outputs": [
      {
       "metadata": {},
       "output_type": "pyout",
       "prompt_number": 33,
       "text": [
        "<seaborn.axisgrid.FacetGrid at 0x10f2922d0>"
       ]
      },
      {
       "metadata": {},
       "output_type": "display_data",
       "png": "[encoded data removed]",
       "text": [
        "<matplotlib.figure.Figure at 0x10f292150>"
       ]
      }
     ],
     "prompt_number": 33
    },
    {
     "cell_type": "code",
     "collapsed": false,
     "input": [
      "# Seaborn is very customizable\n",
      "sns.set_style(\"whitegrid\")\n",
      "sns.factorplot('name', 'comic_count', data=top_10, kind='bar', aspect=2.5, \n",
      "               palette=\"muted\", size=7, x_order=top_10['name'].tolist())"
     ],
     "language": "python",
     "metadata": {},
     "outputs": [
      {
       "metadata": {},
       "output_type": "pyout",
       "prompt_number": 34,
       "text": [
        "<seaborn.axisgrid.FacetGrid at 0x10f1b8050>"
       ]
      },
      {
       "metadata": {},
       "output_type": "display_data",
       "png": "[encoded data removed]",
       "text": [
        "<matplotlib.figure.Figure at 0x10dffdd90>"
       ]
      }
     ],
     "prompt_number": 34
    },
    {
     "cell_type": "code",
     "collapsed": false,
     "input": [
      "import vincent\n",
      "vincent.initialize_notebook()"
     ],
     "language": "python",
     "metadata": {},
     "outputs": [
      {
       "html": [
        "\n",
        "           <script>\n",
        "               \n",
        "                function vct_load_lib(url, callback){\n",
        "                      if(typeof d3 !== 'undefined' &&\n",
        "                         url === 'http://d3js.org/d3.v3.min.js'){\n",
        "                        callback()\n",
        "                      }\n",
        "                      var s = document.createElement('script');\n",
        "                      s.src = url;\n",
        "                      s.async = true;\n",
        "                      s.onreadystatechange = s.onload = callback;\n",
        "                      s.onerror = function(){\n",
        "                        console.warn(\"failed to load library \" + url);\n",
        "                        };\n",
        "                      document.getElementsByTagName(\"head\")[0].appendChild(s);\n",
        "                };\n",
        "                var vincent_event = new CustomEvent(\n",
        "                  \"vincent_libs_loaded\",\n",
        "                  {bubbles: true, cancelable: true}\n",
        "                );\n",
        "                \n",
        "               function load_all_libs(){\n",
        "                  console.log('Loading Vincent libs...')\n",
        "                  vct_load_lib('http://d3js.org/d3.v3.min.js', function(){\n",
        "                  vct_load_lib('http://d3js.org/d3.geo.projection.v0.min.js', function(){\n",
        "                  vct_load_lib('http://wrobstory.github.io/d3-cloud/d3.layout.cloud.js', function(){\n",
        "                  vct_load_lib('http://wrobstory.github.io/vega/vega.v1.3.3.js', function(){\n",
        "                  window.dispatchEvent(vincent_event);\n",
        "                  });\n",
        "                  });\n",
        "                  });\n",
        "                  });\n",
        "               };\n",
        "               if(typeof define === \"function\" && define.amd){\n",
        "                    if (window['d3'] === undefined ||\n",
        "                        window['topojson'] === undefined){\n",
        "                        require.config(\n",
        "                            {paths: {\n",
        "                              d3: 'http://d3js.org/d3.v3.min',\n",
        "                              topojson: 'http://d3js.org/topojson.v1.min'\n",
        "                              }\n",
        "                            }\n",
        "                          );\n",
        "                        require([\"d3\"], function(d3){\n",
        "                            console.log('Loading Vincent from require.js...')\n",
        "                            window.d3 = d3;\n",
        "                            require([\"topojson\"], function(topojson){\n",
        "                                window.topojson = topojson;\n",
        "                                load_all_libs();\n",
        "                            });\n",
        "                        });\n",
        "                    } else {\n",
        "                        load_all_libs();\n",
        "                    };\n",
        "               }else{\n",
        "                    console.log('Require.js not found, loading manually...')\n",
        "                    load_all_libs();\n",
        "               };\n",
        "\n",
        "           </script>"
       ],
       "metadata": {},
       "output_type": "display_data",
       "text": [
        "<IPython.core.display.HTML at 0x10e058490>"
       ]
      }
     ],
     "prompt_number": 35
    },
    {
     "cell_type": "code",
     "collapsed": false,
     "input": [
      "bar = (vincent.Bar(top_10, columns=['comic_count'], key_on='name')\n",
      "              .common_axis_properties(title_size=15)\n",
      "              .axis_titles(x='Character Name', y='Total Comic Book Count')\n",
      "              .colors(range_=['#6a9fb5'])\n",
      "              .x_axis_properties(title_offset=10)\n",
      "              .y_axis_properties(title_offset=-30))\n",
      "bar"
     ],
     "language": "python",
     "metadata": {},
     "outputs": [
      {
       "html": [
        "<div id=\"vis178d468990e146fbb1419ff1b852b88f\"></div>\n",
        "<script>\n",
        "   ( function() {\n",
        "     var _do_plot = function() {\n",
        "       if (typeof vg === 'undefined') {\n",
        "         window.addEventListener('vincent_libs_loaded', _do_plot)\n",
        "         return;\n",
        "       }\n",
        "       vg.parse.spec({\"axes\": [{\"properties\": {\"axis\": {}, \"labels\": {}, \"majorTicks\": {}, \"minorTicks\": {}, \"title\": {\"dy\": {\"value\": 10}, \"fontSize\": {\"value\": 15}}}, \"scale\": \"x\", \"title\": \"Character Name\", \"type\": \"x\"}, {\"properties\": {\"axis\": {}, \"labels\": {}, \"majorTicks\": {}, \"minorTicks\": {}, \"title\": {\"dy\": {\"value\": -30}, \"fontSize\": {\"value\": 15}}}, \"scale\": \"y\", \"title\": \"Total Comic Book Count\", \"type\": \"y\"}], \"data\": [{\"name\": \"table\", \"values\": [{\"col\": \"comic_count\", \"idx\": \"Spider-Man\", \"val\": 2575}, {\"col\": \"comic_count\", \"idx\": \"X-Men\", \"val\": 2531}, {\"col\": \"comic_count\", \"idx\": \"Iron Man\", \"val\": 2027}, {\"col\": \"comic_count\", \"idx\": \"Wolverine\", \"val\": 1794}, {\"col\": \"comic_count\", \"idx\": \"Captain America\", \"val\": 1422}, {\"col\": \"comic_count\", \"idx\": \"Hulk\", \"val\": 1304}, {\"col\": \"comic_count\", \"idx\": \"Thor\", \"val\": 1240}, {\"col\": \"comic_count\", \"idx\": \"Fantastic Four\", \"val\": 1077}, {\"col\": \"comic_count\", \"idx\": \"Avengers\", \"val\": 963}, {\"col\": \"comic_count\", \"idx\": \"Daredevil\", \"val\": 818}]}, {\"name\": \"stats\", \"source\": \"table\", \"transform\": [{\"keys\": [\"data.idx\"], \"type\": \"facet\"}, {\"type\": \"stats\", \"value\": \"data.val\"}]}], \"height\": 500, \"legends\": [], \"marks\": [{\"from\": {\"data\": \"table\", \"transform\": [{\"keys\": [\"data.col\"], \"type\": \"facet\"}, {\"height\": \"data.val\", \"point\": \"data.idx\", \"type\": \"stack\"}]}, \"marks\": [{\"properties\": {\"enter\": {\"fill\": {\"field\": \"data.col\", \"scale\": \"color\"}, \"width\": {\"band\": true, \"offset\": -1, \"scale\": \"x\"}, \"x\": {\"field\": \"data.idx\", \"scale\": \"x\"}, \"y\": {\"field\": \"y\", \"scale\": \"y\"}, \"y2\": {\"field\": \"y2\", \"scale\": \"y\"}}}, \"type\": \"rect\"}], \"type\": \"group\"}], \"padding\": \"auto\", \"scales\": [{\"domain\": {\"data\": \"table\", \"field\": \"data.idx\"}, \"name\": \"x\", \"range\": \"width\", \"type\": \"ordinal\", \"zero\": false}, {\"domain\": {\"data\": \"stats\", \"field\": \"sum\"}, \"name\": \"y\", \"nice\": true, \"range\": \"height\"}, {\"domain\": {\"data\": \"table\", \"field\": \"data.col\"}, \"name\": \"color\", \"range\": [\"#6a9fb5\"], \"type\": \"ordinal\"}], \"width\": 960}, function(chart) {\n",
        "         chart({el: \"#vis178d468990e146fbb1419ff1b852b88f\"}).update();\n",
        "       });\n",
        "     };\n",
        "     _do_plot();\n",
        "   })();\n",
        "</script>\n",
        "<style>.vega canvas {width: 100%;}</style>\n",
        "        "
       ],
       "metadata": {},
       "output_type": "pyout",
       "prompt_number": 36,
       "text": [
        "<vincent.charts.Bar at 0x10f4e5650>"
       ]
      }
     ],
     "prompt_number": 36
    },
    {
     "cell_type": "code",
     "collapsed": false,
     "input": [
      "from IPython.core.display import HTML\n",
      "\n",
      "# Use the following if running locally:\n",
      "# styles = open(\"styles/custom.css\", \"r\").read()\n",
      "\n",
      "# This is for nbviewer:\n",
      "styles = open(\"custom.css\", \"r\").read()\n",
      "\n",
      "HTML(styles)"
     ],
     "language": "python",
     "metadata": {},
     "outputs": [
      {
       "html": [
        "\n",
        "<link href='http://fonts.googleapis.com/css?family=Source+Code+Pro' rel='stylesheet' type='text/css'>\n",
        "<link href='http://fonts.googleapis.com/css?family=Lato' rel='stylesheet' type='text/css'>\n",
        "<style>\n",
        "\n",
        "    div#maintoolbar, div#header {display: none !important;}\n",
        "    div#notebook {border-top: none;}\n",
        "\n",
        "    div.cell.selected {\n",
        "         border: none !important;\n",
        "         border-radius: 0px;\n",
        "    }\n",
        "\n",
        "    div.prompt {\n",
        "        display: none;\n",
        "    }\n",
        "\n",
        "    .CodeMirror-code {\n",
        "        font-family: \"Source Code Pro\";\n",
        "    }\n",
        "\n",
        "    code, pre {\n",
        "        font-family: \"Source Code Pro\";\n",
        "    }\n",
        "\n",
        "    .highlight {\n",
        "        font-family: \"Source Code Pro\";\n",
        "    }\n",
        "\n",
        "    h1, h2, h3, h4, h5 {\n",
        "        font-family: \"Lato\" !important;\n",
        "    }\n",
        "\n",
        "</style>"
       ],
       "metadata": {},
       "output_type": "pyout",
       "prompt_number": 1,
       "text": [
        "<IPython.core.display.HTML at 0x10c333210>"
       ]
      }
     ],
     "prompt_number": 1
    }
   ],
   "metadata": {}
  }
 ]
}